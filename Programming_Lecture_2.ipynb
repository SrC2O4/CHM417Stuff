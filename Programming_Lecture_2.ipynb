{
  "nbformat": 4,
  "nbformat_minor": 0,
  "metadata": {
    "celltoolbar": "Slideshow",
    "kernelspec": {
      "display_name": "Python 3",
      "language": "python",
      "name": "python3"
    },
    "language_info": {
      "codemirror_mode": {
        "name": "ipython",
        "version": 3
      },
      "file_extension": ".py",
      "mimetype": "text/x-python",
      "name": "python",
      "nbconvert_exporter": "python",
      "pygments_lexer": "ipython3",
      "version": "3.7.3"
    },
    "colab": {
      "name": "Programming Lecture 2.ipynb",
      "provenance": [],
      "collapsed_sections": [],
      "toc_visible": true,
      "include_colab_link": true
    }
  },
  "cells": [
    {
      "cell_type": "markdown",
      "metadata": {
        "id": "view-in-github",
        "colab_type": "text"
      },
      "source": [
        "<a href=\"https://colab.research.google.com/github/Strontium233/CHM417Stuff/blob/main/Programming_Lecture_2.ipynb\" target=\"_parent\"><img src=\"https://colab.research.google.com/assets/colab-badge.svg\" alt=\"Open In Colab\"/></a>"
      ]
    },
    {
      "cell_type": "markdown",
      "metadata": {
        "id": "cbFozB4WXv3G"
      },
      "source": [
        "<h1><center>CHM417: Programming Lecture 2</center></h1>\n",
        "<p><code><center>An introduction to Python</center></code></p>"
      ]
    },
    {
      "cell_type": "markdown",
      "metadata": {
        "id": "cCMNHgadXv3K"
      },
      "source": [
        "#A few words about Python...\n",
        "\n",
        "\n",
        "    "
      ]
    },
    {
      "cell_type": "markdown",
      "metadata": {
        "id": "f8y9UpXJXv3L"
      },
      "source": [
        "<ul>\n",
        "<li>Released in 1991</li>\n",
        "<li>High-Level / General-Purpose Programming Language</li>\n",
        "<li>Easy syntax</li>\n",
        "<ul><li>Fast and Easy to Program</li></ul>\n",
        "</ul>"
      ]
    },
    {
      "cell_type": "markdown",
      "metadata": {
        "id": "rHDisonsXv3L"
      },
      "source": [
        "<ul>\n",
        "<li>Interpreted not Compiled</li>\n",
        "<ul><li>Cross Platform</li>\n",
        "<li>Slower for Demanding Tasks</li></ul>\n",
        "<li>Popular & Well Documented</li>\n",
        "<ul><li>Thousands of Libraries & Guides Available Online</li>\n",
        "<li>Frequent Updates & Implementations</li></ul>\n",
        "</ul>"
      ]
    },
    {
      "cell_type": "markdown",
      "metadata": {
        "id": "BfidWOjqXv3M"
      },
      "source": [
        "<ul>\n",
        "<li>2 Python Major Versions:</li>\n",
        "<ul><li>2.0 (Latest Minor Version: 2.7, support ends in 2020)</li>\n",
        "<li>3.0 (Latest Minor Version: 3.7)</li></ul>\n",
        "<li>Python Applications:</li>\n",
        "<ul><li>Web & Internet Development (Pyramid, Flask, Plone)</li>\n",
        "<li>Scientific & Numeric (SciPy, Pandas, IPython, Scikit)</li>\n",
        "<li>Education</li>\n",
        "<li>Desktop GUIs (wxWidgets, GTK+)</li>\n",
        "<li>Software Development (SCons, Buildbot, Trac)</li>\n",
        "<li>Business Applications (Odoo, Tryton)</li></ul>\n",
        "</ul>"
      ]
    },
    {
      "cell_type": "markdown",
      "metadata": {
        "id": "S1NXma37Xv3M"
      },
      "source": [
        "#Today's Course"
      ]
    },
    {
      "cell_type": "markdown",
      "metadata": {
        "id": "RRUKc0kIXv3N"
      },
      "source": [
        "We will use jupyter-notebook (on Google Colab) to learn the basics of Python...\r\n",
        "\r\n",
        "Colab is a Python development environment that runs in the browser using Google Cloud."
      ]
    },
    {
      "cell_type": "markdown",
      "metadata": {
        "id": "a7EwrU_WXv3N"
      },
      "source": [
        "<ul>\n",
        "<li>A browser-based programming environment</li>\n",
        "<li>Not great for distributing whole programs, but very convenient for prototyping/quick projects</li>\n"
      ]
    },
    {
      "cell_type": "markdown",
      "metadata": {
        "id": "LqaeoaiPXv3N"
      },
      "source": [
        "A jupyter-notebook session consists of a series of cells. \r\n",
        "For example, to print \"Hello World\", just hover the mouse over [ ] and press the play button to the upper left. Or press shift-enter to execute and the output will be displayed beneath."
      ]
    },
    {
      "cell_type": "code",
      "metadata": {
        "id": "XG9K5-m8e97A"
      },
      "source": [
        "print(\"Hello World\")"
      ],
      "execution_count": null,
      "outputs": []
    },
    {
      "cell_type": "code",
      "metadata": {
        "id": "NueQhlJeXv3O"
      },
      "source": [
        "3 + 4 + 2 "
      ],
      "execution_count": null,
      "outputs": []
    },
    {
      "cell_type": "markdown",
      "metadata": {
        "id": "Etu6wwVafezD"
      },
      "source": [
        "#Before we begin\r\n",
        "\r\n",
        "*   You execute each cell in order, you can edit & re-execute cells if you want\r\n",
        "*   Sometimes, this could have unintended consequences causing the cells not to work. If you encounter problem reset your environment:\r\n",
        "  *   Runtime -> Restart runtime... Resets your Python shell\r\n",
        "  *   Runtime -> Restart all runtimes... Will reset the Colab image, and get you back to a 100% clean environment\r\n",
        "* You can also clear the output in the Colab by doing: Edit -> Clear all outputs\r\n",
        "* Colabs in this course are loaded from a personal Google Drive. Make sure to save to your Google Drive if you want a copy with your code/output: File -> Save a copy in Drive..."
      ]
    },
    {
      "cell_type": "markdown",
      "metadata": {
        "id": "preQ7saYXv3O"
      },
      "source": [
        "Note that cells are not independant. They can be executed separately, but a variable defined in one will show up in the rest."
      ]
    },
    {
      "cell_type": "code",
      "metadata": {
        "id": "RlkZvpXcXv3O"
      },
      "source": [
        "a = 10"
      ],
      "execution_count": null,
      "outputs": []
    },
    {
      "cell_type": "code",
      "metadata": {
        "id": "ZnyxhR1BXv3O"
      },
      "source": [
        "a"
      ],
      "execution_count": null,
      "outputs": []
    },
    {
      "cell_type": "markdown",
      "metadata": {
        "id": "czLs0eFtXv3P"
      },
      "source": [
        "#The Basics\r\n"
      ]
    },
    {
      "cell_type": "markdown",
      "metadata": {
        "id": "0Fp1POk6Xv3P"
      },
      "source": [
        "##The comment symbols"
      ]
    },
    {
      "cell_type": "markdown",
      "metadata": {
        "id": "Rss0bofoXv3P"
      },
      "source": [
        "Text that starts with <code>#</code> is ignored and can be used to leave comments in a line"
      ]
    },
    {
      "cell_type": "code",
      "metadata": {
        "id": "mqgmphnaXv3Q"
      },
      "source": [
        "#Text that starts with # is ignored and can be used to leave comments\n",
        "b = 10 # This variable is for x\n",
        "b"
      ],
      "execution_count": null,
      "outputs": []
    },
    {
      "cell_type": "markdown",
      "metadata": {
        "id": "sDlnNukqXv3Q"
      },
      "source": [
        "Alternatively Text that is within <code>''' '''</code> will also be ignored (used to comment multiple lines)"
      ]
    },
    {
      "cell_type": "code",
      "metadata": {
        "id": "yjwZhXqCXv3R"
      },
      "source": [
        "'''Alternatively Text that is within ''' ''' will also be ignored \n",
        "fdkjfkjasfb\n",
        "safakjbf\n",
        "asfkj \n",
        "(used to comment multiple lines)'''"
      ],
      "execution_count": null,
      "outputs": []
    },
    {
      "cell_type": "markdown",
      "metadata": {
        "id": "fZFEU72dXv3R"
      },
      "source": [
        "##The indent"
      ]
    },
    {
      "cell_type": "markdown",
      "metadata": {
        "id": "-5uf6mYiXv3R"
      },
      "source": [
        "Python uses indentation to delimit blocks of code. \n",
        "<br>Contiguous lines of code in the same block must be at the same indentation level."
      ]
    },
    {
      "cell_type": "markdown",
      "metadata": {
        "id": "H8f5P8SEXv3S"
      },
      "source": [
        "```\n",
        "something\n",
        "  something\n",
        "  something\n",
        "something\n",
        "```"
      ]
    },
    {
      "cell_type": "markdown",
      "metadata": {
        "id": "Oh7D9tuxXv3S"
      },
      "source": [
        "##Variables"
      ]
    },
    {
      "cell_type": "markdown",
      "metadata": {
        "id": "9rk7GgrKXv3S"
      },
      "source": [
        "<ul><li>Variables are a very important tool in programming.</li>\n",
        "<li>Much like in mathematics, variables represent different values.</li>\n",
        "<li>In Python, variables store references to objects</li>\n",
        "<li>Making a variable/changing its value is called assignment</li></ul>"
      ]
    },
    {
      "cell_type": "markdown",
      "metadata": {
        "id": "YUPzlnN5Xv3T"
      },
      "source": [
        "Variables are assigned with the syntax name = value.\n",
        "\n",
        "How would we assign the value 20 to the variable a?"
      ]
    },
    {
      "cell_type": "code",
      "metadata": {
        "id": "wyJi8SDhXv3T"
      },
      "source": [
        "a = 20"
      ],
      "execution_count": null,
      "outputs": []
    },
    {
      "cell_type": "markdown",
      "metadata": {
        "id": "hDivXpY-Xv3T"
      },
      "source": [
        "How can we check the current value of a variable?"
      ]
    },
    {
      "cell_type": "code",
      "metadata": {
        "id": "rwGU27UeXv3T"
      },
      "source": [
        "a #Python will return the value, but it will not print it..."
      ],
      "execution_count": null,
      "outputs": []
    },
    {
      "cell_type": "markdown",
      "metadata": {
        "id": "WXHJKbfwXv3U"
      },
      "source": [
        "In Python usually we put one command per line."
      ]
    },
    {
      "cell_type": "code",
      "metadata": {
        "id": "C-94ymAbXv3U"
      },
      "source": [
        "a =  5      b = 10"
      ],
      "execution_count": null,
      "outputs": []
    },
    {
      "cell_type": "code",
      "metadata": {
        "id": "X0wOiFNNXv3U"
      },
      "source": [
        "a =  5;   b = 10 # We can use ; to seperate each command "
      ],
      "execution_count": null,
      "outputs": []
    },
    {
      "cell_type": "code",
      "metadata": {
        "id": "B1N7kDT6Xv3V"
      },
      "source": [
        "a = 5\n",
        "b = 10"
      ],
      "execution_count": null,
      "outputs": []
    },
    {
      "cell_type": "markdown",
      "metadata": {
        "id": "ybeNP3qvXv3V"
      },
      "source": [
        "Variables can be reassigned or assigned to the value of other variables:"
      ]
    },
    {
      "cell_type": "code",
      "metadata": {
        "id": "WxGpLEAEXv3V"
      },
      "source": [
        "a = 2\n",
        "a = 4\n",
        "a"
      ],
      "execution_count": null,
      "outputs": []
    },
    {
      "cell_type": "markdown",
      "metadata": {
        "id": "sUuL2NSmXv3V"
      },
      "source": [
        "##Basic Data Types"
      ]
    },
    {
      "cell_type": "markdown",
      "metadata": {
        "id": "i03eJkN_Xv3W"
      },
      "source": [
        "<li>Boolean (<code>bool</code>)</li>"
      ]
    },
    {
      "cell_type": "code",
      "metadata": {
        "id": "4EdS8bSIXv3W"
      },
      "source": [
        "a = True\n",
        "b = False"
      ],
      "execution_count": null,
      "outputs": []
    },
    {
      "cell_type": "code",
      "metadata": {
        "id": "bdy5XhGyXv3W"
      },
      "source": [
        "type(a)"
      ],
      "execution_count": null,
      "outputs": []
    },
    {
      "cell_type": "markdown",
      "metadata": {
        "id": "b9gFrz92Xv3W"
      },
      "source": [
        "<li>Numeric</li>"
      ]
    },
    {
      "cell_type": "markdown",
      "metadata": {
        "id": "eN9gXWXvXv3X"
      },
      "source": [
        "<ul><ul><li>Integer (<code>int</code>)</li></ul></ul>"
      ]
    },
    {
      "cell_type": "code",
      "metadata": {
        "id": "Nt1Uet2fXv3X"
      },
      "source": [
        "c = 5\n",
        "type(c)"
      ],
      "execution_count": null,
      "outputs": []
    },
    {
      "cell_type": "markdown",
      "metadata": {
        "id": "iG_mkSCiXv3X"
      },
      "source": [
        "<ul><ul><li>Floating point (<code>float</code>)</li></ul></ul>"
      ]
    },
    {
      "cell_type": "code",
      "metadata": {
        "id": "wqY1YISrXv3X"
      },
      "source": [
        "d = 9.32\n",
        "type(d)"
      ],
      "execution_count": null,
      "outputs": []
    },
    {
      "cell_type": "markdown",
      "metadata": {
        "id": "cOQcV2DAXv3Y"
      },
      "source": [
        "<ul><ul><li>Complex Numbers (<code>complex</code>)</li></ul></ul>"
      ]
    },
    {
      "cell_type": "code",
      "metadata": {
        "id": "zRM2qGk-Xv3Y"
      },
      "source": [
        "e = 8 + 3.1j\n",
        "type(e)"
      ],
      "execution_count": null,
      "outputs": []
    },
    {
      "cell_type": "markdown",
      "metadata": {
        "id": "OvHwuKOeXv3Y"
      },
      "source": [
        "##Methods and Attributes"
      ]
    },
    {
      "cell_type": "markdown",
      "metadata": {
        "id": "fhhax8XxXv3Y"
      },
      "source": [
        "Methods are special functions that are attached to objects to do specific tasks relevant to that object type.\n",
        "Methods are defined as part of the class (the object template), so all objects of the same class have the same methods.\n",
        "\n",
        "Numeric objects only have a few methods, including <code>conjugate()</code>, which returns the complex conjugate of a number.\n",
        "\n",
        "Methods are called with: <code>object.method()</code>, where <code>object</code> is the object that contains the method."
      ]
    },
    {
      "cell_type": "code",
      "metadata": {
        "id": "8qwbMJXCXv3Z"
      },
      "source": [
        "a = 23 + 2j  # A complex number\n",
        "a.conjugate() # Calling the conjugate() method of a"
      ],
      "execution_count": null,
      "outputs": []
    },
    {
      "cell_type": "markdown",
      "metadata": {
        "id": "DjZd0DIYXv3Z"
      },
      "source": [
        "Attributes are similar to methods, but are more like variables. They typically represent some static value and don't perform any task.\n",
        "\n",
        "They are accessed similarly to methods, but without the (): <code>object.attribute</code>\n",
        "\n",
        "Complex numbers have two useful attributes: real and imag, for accessing the real and imaginary components, respectively."
      ]
    },
    {
      "cell_type": "code",
      "metadata": {
        "id": "NZGpWAEBXv3Z"
      },
      "source": [
        "(1+2.0j).real"
      ],
      "execution_count": null,
      "outputs": []
    },
    {
      "cell_type": "code",
      "metadata": {
        "id": "PvMdcejSXv3Z"
      },
      "source": [
        "(1+2.0j).conjugate().imag"
      ],
      "execution_count": null,
      "outputs": []
    },
    {
      "cell_type": "markdown",
      "metadata": {
        "id": "pZDZFMDaXv3t"
      },
      "source": [
        "##Mathematical Expresions"
      ]
    },
    {
      "cell_type": "markdown",
      "metadata": {
        "id": "R1z4DrglXv3u"
      },
      "source": [
        "<li>Addition ( <code>+</code> )</li>"
      ]
    },
    {
      "cell_type": "code",
      "metadata": {
        "id": "Zv87IfMqXv3u"
      },
      "source": [
        "5 + 9 "
      ],
      "execution_count": null,
      "outputs": []
    },
    {
      "cell_type": "code",
      "metadata": {
        "id": "gxpBY9xCXv3u"
      },
      "source": [
        ""
      ],
      "execution_count": null,
      "outputs": []
    },
    {
      "cell_type": "markdown",
      "metadata": {
        "id": "OoISjbxUXv3u"
      },
      "source": [
        "<li>Subtraction ( <code>-</code> )</li>"
      ]
    },
    {
      "cell_type": "code",
      "metadata": {
        "id": "lh_-aOo1Xv3u"
      },
      "source": [
        "7 - 3"
      ],
      "execution_count": null,
      "outputs": []
    },
    {
      "cell_type": "code",
      "metadata": {
        "id": "EBeCflGKXv3u"
      },
      "source": [
        "# If we mix types, the result is the correct type\n",
        "# to store the most accurate result\n",
        "5 + 7 + 8.1 # int +  int + float = float"
      ],
      "execution_count": null,
      "outputs": []
    },
    {
      "cell_type": "markdown",
      "metadata": {
        "id": "7hKsXOf_Xv3u"
      },
      "source": [
        "<li>Multiplication ( <code>*</code> )</li>"
      ]
    },
    {
      "cell_type": "code",
      "metadata": {
        "id": "Cix7krkkXv3v"
      },
      "source": [
        "5 * 6"
      ],
      "execution_count": null,
      "outputs": []
    },
    {
      "cell_type": "markdown",
      "metadata": {
        "id": "0q2qs330Xv3v"
      },
      "source": [
        "<li>Exponential ( <code>**</code> )</li>"
      ]
    },
    {
      "cell_type": "code",
      "metadata": {
        "id": "WxwrbbAzXv3v"
      },
      "source": [
        "4 ** 3"
      ],
      "execution_count": null,
      "outputs": []
    },
    {
      "cell_type": "markdown",
      "metadata": {
        "id": "FfIGbXpCXv3v"
      },
      "source": [
        "<li>Division ( <code>/</code> )</li>"
      ]
    },
    {
      "cell_type": "code",
      "metadata": {
        "id": "VdeMPyxcXv3v"
      },
      "source": [
        "15 / 4"
      ],
      "execution_count": null,
      "outputs": []
    },
    {
      "cell_type": "markdown",
      "metadata": {
        "id": "B5-G2NrOXv3v"
      },
      "source": [
        "<li>Floor Division ( <code>//</code> )</li>"
      ]
    },
    {
      "cell_type": "code",
      "metadata": {
        "id": "wqb9CGdvXv3w"
      },
      "source": [
        "9 // 4"
      ],
      "execution_count": null,
      "outputs": []
    },
    {
      "cell_type": "code",
      "metadata": {
        "id": "pasTuYTKXv3w"
      },
      "source": [
        "- (9 // 4)"
      ],
      "execution_count": null,
      "outputs": []
    },
    {
      "cell_type": "markdown",
      "metadata": {
        "id": "WHZbQgd8Xv3x"
      },
      "source": [
        "<li>Remainder ( <code>%</code> )</li>"
      ]
    },
    {
      "cell_type": "code",
      "metadata": {
        "id": "MuWTKkArXv3x"
      },
      "source": [
        "9 % 4"
      ],
      "execution_count": null,
      "outputs": []
    },
    {
      "cell_type": "markdown",
      "metadata": {
        "id": "6UsonzMSXv3y"
      },
      "source": [
        "<h4>Order of operations</h4>"
      ]
    },
    {
      "cell_type": "code",
      "metadata": {
        "id": "4d4LdF93Xv3y"
      },
      "source": [
        "(1+2*3+1)"
      ],
      "execution_count": null,
      "outputs": []
    },
    {
      "cell_type": "code",
      "metadata": {
        "id": "_l59qtDPXv3y"
      },
      "source": [
        "((1+2)*(3+1))"
      ],
      "execution_count": null,
      "outputs": []
    },
    {
      "cell_type": "markdown",
      "metadata": {
        "id": "S2PgvmeBXv3z"
      },
      "source": [
        "##Logic Expressions"
      ]
    },
    {
      "cell_type": "markdown",
      "metadata": {
        "id": "DQQnPZ3_Xv3z"
      },
      "source": [
        "<li>Equal to( <code>==</code> )</li>"
      ]
    },
    {
      "cell_type": "code",
      "metadata": {
        "id": "2POmsrgQXv3z"
      },
      "source": [
        "5 == 5"
      ],
      "execution_count": null,
      "outputs": []
    },
    {
      "cell_type": "code",
      "metadata": {
        "id": "587tf6RXXv30"
      },
      "source": [
        "8 == 9"
      ],
      "execution_count": null,
      "outputs": []
    },
    {
      "cell_type": "code",
      "metadata": {
        "id": "8u580nKyXv30"
      },
      "source": [
        "a = 7\n",
        "a == 7"
      ],
      "execution_count": null,
      "outputs": []
    },
    {
      "cell_type": "markdown",
      "metadata": {
        "id": "XPqrDE1mXv31"
      },
      "source": [
        "<li>Not Equal to( <code>!=</code> )</li>"
      ]
    },
    {
      "cell_type": "code",
      "metadata": {
        "id": "7vIOwShQXv31"
      },
      "source": [
        "7 != 5"
      ],
      "execution_count": null,
      "outputs": []
    },
    {
      "cell_type": "markdown",
      "metadata": {
        "id": "5WT7g80YXv31"
      },
      "source": [
        "<li>Greater than / Greater than or Equal to ( <code>></code> / <code>>=</code> )</li>"
      ]
    },
    {
      "cell_type": "code",
      "metadata": {
        "id": "Qouu5femXv32"
      },
      "source": [
        "12 > 6"
      ],
      "execution_count": null,
      "outputs": []
    },
    {
      "cell_type": "code",
      "metadata": {
        "id": "wuRp4ZgkXv32"
      },
      "source": [
        "9 >= 9"
      ],
      "execution_count": null,
      "outputs": []
    },
    {
      "cell_type": "markdown",
      "metadata": {
        "id": "VxK4VDyZXv32"
      },
      "source": [
        "<li>Less than / Less than or Equal to ( <code><</code> / <code><=</code> )</li>"
      ]
    },
    {
      "cell_type": "code",
      "metadata": {
        "id": "iBG8_n7PXv33"
      },
      "source": [
        "9 < 7"
      ],
      "execution_count": null,
      "outputs": []
    },
    {
      "cell_type": "code",
      "metadata": {
        "id": "voHsEPioXv33"
      },
      "source": [
        "8 <= 12"
      ],
      "execution_count": null,
      "outputs": []
    },
    {
      "cell_type": "markdown",
      "metadata": {
        "id": "QiU6u615Xv33"
      },
      "source": [
        "<li>Boolean ( <code>and</code> , <code>or</code> , <code>not</code> )</li>"
      ]
    },
    {
      "cell_type": "code",
      "metadata": {
        "id": "iBYg8qNbXv33"
      },
      "source": [
        "a = True\n",
        "b = False\n",
        "print(a and b)\n",
        "print(a or b)\n",
        "print(not a)"
      ],
      "execution_count": null,
      "outputs": []
    },
    {
      "cell_type": "markdown",
      "metadata": {
        "id": "1Qo6ixR-Xv35"
      },
      "source": [
        "There is also a Python specific expression\n",
        "<li><code>is</code></li>\n",
        "<br>Used to compare identities, checks if both variables point to the same object.<br>\n",
        "Note: <code>==</code>, checks for equality "
      ]
    },
    {
      "cell_type": "code",
      "metadata": {
        "id": "uufHE4x_Xv35"
      },
      "source": [
        "a = True\n",
        "a is True"
      ],
      "execution_count": null,
      "outputs": []
    },
    {
      "cell_type": "markdown",
      "metadata": {
        "id": "g-nahl9-Xv3a"
      },
      "source": [
        "##Strings"
      ]
    },
    {
      "cell_type": "markdown",
      "metadata": {
        "id": "1AaCEhWgXv3a"
      },
      "source": [
        "String (<code>str</code>)\n",
        "\n",
        "String is a sequence of characters, in order to set a string you have to place it in ' ' (single quotes) or \" \" (double quotes)."
      ]
    },
    {
      "cell_type": "code",
      "metadata": {
        "id": "3AklWNcIXv3a"
      },
      "source": [
        "f = 'Hello World' # Same as f = \"Hello World\" \n",
        "type(f)"
      ],
      "execution_count": null,
      "outputs": []
    },
    {
      "cell_type": "markdown",
      "metadata": {
        "id": "4qu61ElgXv3a"
      },
      "source": [
        "You can do many cool things with strings"
      ]
    },
    {
      "cell_type": "code",
      "metadata": {
        "id": "AKSLi7q2Xv3a"
      },
      "source": [
        "# Addition\n",
        "'cat ' + 'in' + ' ' + 'a ' + 'box'"
      ],
      "execution_count": null,
      "outputs": []
    },
    {
      "cell_type": "code",
      "metadata": {
        "id": "A3rvsvR9Xv3b"
      },
      "source": [
        "# Multiplication\n",
        "'cat ' * 15"
      ],
      "execution_count": null,
      "outputs": []
    },
    {
      "cell_type": "code",
      "metadata": {
        "id": "4zd9BdztXv3b"
      },
      "source": [
        "#Usefull String Methods\n",
        "a = 'the cat says meow.'"
      ],
      "execution_count": null,
      "outputs": []
    },
    {
      "cell_type": "code",
      "metadata": {
        "id": "hya6-QkgXv3b"
      },
      "source": [
        "a.capitalize() # Capitalize the first character of a string"
      ],
      "execution_count": null,
      "outputs": []
    },
    {
      "cell_type": "code",
      "metadata": {
        "id": "IDL7H2TpXv3b"
      },
      "source": [
        "a.lower() # Capitalize all characters of a string"
      ],
      "execution_count": null,
      "outputs": []
    },
    {
      "cell_type": "code",
      "metadata": {
        "id": "SFoEic-mXv3c"
      },
      "source": [
        "a.split(' ') # Split a string based on a certain character (default space)"
      ],
      "execution_count": null,
      "outputs": []
    },
    {
      "cell_type": "code",
      "metadata": {
        "id": "V6u9SxcAXv3c"
      },
      "source": [
        "# You can turn a list of strings to text\n",
        "a = ['a', 'bunch', 'of', 'words', 'in', 'a', 'list']\n",
        "a"
      ],
      "execution_count": null,
      "outputs": []
    },
    {
      "cell_type": "code",
      "metadata": {
        "id": "XZBHOO7aXv3c"
      },
      "source": [
        "' abcd '.join(a) # Join a list of strings with a string defined before the method "
      ],
      "execution_count": null,
      "outputs": []
    },
    {
      "cell_type": "code",
      "metadata": {
        "id": "lQvigIP5Xv3c"
      },
      "source": [
        "name = 'John'\n",
        "surname = 'Smith'\n",
        "'Name: {1}, {1:.2f}'.format(name, 52.333425) # Using the format method you can add a variable to a string"
      ],
      "execution_count": null,
      "outputs": []
    },
    {
      "cell_type": "code",
      "metadata": {
        "id": "NL6eRqLpXv3c"
      },
      "source": [
        "# Strings are immutable sequences of characters so we can access each character\n",
        "surname[2:4]"
      ],
      "execution_count": null,
      "outputs": []
    },
    {
      "cell_type": "code",
      "metadata": {
        "id": "6uymWsJYXv3d"
      },
      "source": [
        "# But that also means we cannot change them \n",
        "surname[2:4] = 'ab'"
      ],
      "execution_count": null,
      "outputs": []
    },
    {
      "cell_type": "markdown",
      "metadata": {
        "id": "_a0ehGIBXv3d"
      },
      "source": [
        "##Built-in Functions\n",
        "<br>\n",
        "<li>A function is a predefined piece of code that performs a specific task</li>\n",
        "<li>A function may take zero or more arguments</li>\n",
        "<li>A function may return some result</li>\n",
        "<li>Python has a number of useful functions that are pre-defined, other developers have written many more, and you can write your own</li>"
      ]
    },
    {
      "cell_type": "markdown",
      "metadata": {
        "id": "NE8bLtrlXv3d"
      },
      "source": [
        "<code>input(prompt='')</code> \n",
        "<br>Takes a single argument inside the () and requests for an input at the terminal. The input then is returned as a <b>string</b>."
      ]
    },
    {
      "cell_type": "code",
      "metadata": {
        "id": "QcyWbYm5Xv3d"
      },
      "source": [
        "input('Input a number from 0 to 10')"
      ],
      "execution_count": null,
      "outputs": []
    },
    {
      "cell_type": "markdown",
      "metadata": {
        "id": "lH9Vkd8dXv3d"
      },
      "source": [
        "<code>print()</code> \n",
        "<br>Takes one or more arguments inside the (), separated by , and outputs them to the terminal in order. \n",
        "<br>These are known as positional arguments because the order they are entered is important"
      ]
    },
    {
      "cell_type": "code",
      "metadata": {
        "id": "9fw_vIP6Xv3e"
      },
      "source": [
        "a = 10\n",
        "print(a, 30, 33, 'a')\n",
        "print(a)\n",
        "print(30)"
      ],
      "execution_count": null,
      "outputs": []
    },
    {
      "cell_type": "markdown",
      "metadata": {
        "id": "EZK61Ew_Xv3e"
      },
      "source": [
        "Functions can have optional arguments too. <br>\n",
        "Let's look up the help for print(). <br>\n",
        "We can look up the help for any variable or function by putting a ? before or after it."
      ]
    },
    {
      "cell_type": "code",
      "metadata": {
        "id": "CkXWoVNvXv3e"
      },
      "source": [
        "print?"
      ],
      "execution_count": null,
      "outputs": []
    },
    {
      "cell_type": "markdown",
      "metadata": {
        "id": "ZiQ-qqPrXv3e"
      },
      "source": [
        "Note: In programming, a docstring is a string literal specified in source code that is used, like a comment, to document a specific segment of code. In the future, when you write your own functions remember to include a docstring to document your code."
      ]
    },
    {
      "cell_type": "markdown",
      "metadata": {
        "id": "ohbAVTkgXv3e"
      },
      "source": [
        "Two interesting optional arguments:\n",
        "\n",
        "<li>sep: string inserted between values (default: space)</li>\n",
        "<li>end: string appended after the last value (default: newline)</li>\n",
        "<br>These are known as keyword arguments and are added to the argument list as key=value Their order does not matter because they are identified by their keys."
      ]
    },
    {
      "cell_type": "code",
      "metadata": {
        "id": "aSchpef5Xv3f"
      },
      "source": [
        "a = 10\n",
        "b = 20\n",
        "print(a, 30, 'a', end ='!', sep ='&')\n",
        "print(a, 30, 'a', end ='!', sep ='&')"
      ],
      "execution_count": null,
      "outputs": []
    },
    {
      "cell_type": "markdown",
      "metadata": {
        "id": "8vdOqYO1Xv3f"
      },
      "source": [
        "<code>abs()</code> \n",
        "<br>Returns the absolute value of number"
      ]
    },
    {
      "cell_type": "code",
      "metadata": {
        "id": "O2OPgbOnXv3g"
      },
      "source": [
        "abs(-5)"
      ],
      "execution_count": null,
      "outputs": []
    },
    {
      "cell_type": "markdown",
      "metadata": {
        "id": "Iy73Nuu7Xv3g"
      },
      "source": [
        "Note: Functions that return usually do not change the value of any variables used as arguments automatically."
      ]
    },
    {
      "cell_type": "code",
      "metadata": {
        "id": "aTYdcvhCXv3g"
      },
      "source": [
        "a = -10\n",
        "a = abs(a) # It will return the absolute value of a"
      ],
      "execution_count": null,
      "outputs": []
    },
    {
      "cell_type": "code",
      "metadata": {
        "id": "enkJ96MrXv3h"
      },
      "source": [
        "print(a) # The value of a hasn't changed"
      ],
      "execution_count": null,
      "outputs": []
    },
    {
      "cell_type": "code",
      "metadata": {
        "id": "ODRXry3AXv3h"
      },
      "source": [
        "a = abs(a) # To change the value of a we have to reassign it.\n",
        "print(a)"
      ],
      "execution_count": null,
      "outputs": []
    },
    {
      "cell_type": "markdown",
      "metadata": {
        "id": "mWY_bedCXv3h"
      },
      "source": [
        "<code>max()</code> \n",
        "<br>Returns the largest element"
      ]
    },
    {
      "cell_type": "code",
      "metadata": {
        "id": "7G-lfeqvXv3h"
      },
      "source": [
        "a =10\n",
        "b = 4\n",
        "c = 12\n",
        "max(a , b, c)"
      ],
      "execution_count": null,
      "outputs": []
    },
    {
      "cell_type": "markdown",
      "metadata": {
        "id": "lOwDnQ2QXv3i"
      },
      "source": [
        "<code>min()</code> \n",
        "<br>Returns the smallest element"
      ]
    },
    {
      "cell_type": "code",
      "metadata": {
        "id": "TJtMtnx8Xv3i"
      },
      "source": [
        "min(a , b, c)"
      ],
      "execution_count": null,
      "outputs": []
    },
    {
      "cell_type": "markdown",
      "metadata": {
        "id": "5D_a87VWXv3j"
      },
      "source": [
        "<code>round()</code> \n",
        "<br>Rounds a floating point number to ndigits places"
      ]
    },
    {
      "cell_type": "code",
      "metadata": {
        "id": "CXlQbl5pXv3j"
      },
      "source": [
        "pi = 3.14159265359\n",
        "round(pi,3)"
      ],
      "execution_count": null,
      "outputs": []
    },
    {
      "cell_type": "markdown",
      "metadata": {
        "id": "C_nDK1sYXv3j"
      },
      "source": [
        "##Typecasting\n",
        "<br>\n",
        "Sometimes we want to convert a type from one to another. We can convert between the numeric types by <em>typecasting</em>. If our number is x, then we can do <code>int(x)</code> or <code>float(x)</code>. For complex numbers, we can do <code>complex(re, im)</code> where re is the real part and im is the imaginary."
      ]
    },
    {
      "cell_type": "code",
      "metadata": {
        "id": "F9rw3TItXv3j"
      },
      "source": [
        "a = 5\n",
        "b = 5.245"
      ],
      "execution_count": null,
      "outputs": []
    },
    {
      "cell_type": "code",
      "metadata": {
        "id": "6DMDX2I1Xv3k"
      },
      "source": [
        "float(a)"
      ],
      "execution_count": null,
      "outputs": []
    },
    {
      "cell_type": "code",
      "metadata": {
        "id": "eYiqDuUsXv3k"
      },
      "source": [
        "int(b) # The decimal part will be lost"
      ],
      "execution_count": null,
      "outputs": []
    },
    {
      "cell_type": "code",
      "metadata": {
        "id": "iW-yY9v5Xv3l"
      },
      "source": [
        "complex(a , b)"
      ],
      "execution_count": null,
      "outputs": []
    },
    {
      "cell_type": "code",
      "metadata": {
        "id": "FAURhBbwXv3l"
      },
      "source": [
        "int(str(b)) # In case you need a string you can convert it with the str() function.It doesn't always work the other way!"
      ],
      "execution_count": null,
      "outputs": []
    }
  ]
}